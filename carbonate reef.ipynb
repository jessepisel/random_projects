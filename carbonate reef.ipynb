{
 "cells": [
  {
   "cell_type": "code",
   "execution_count": null,
   "metadata": {},
   "outputs": [],
   "source": [
    "import numpy as np\n",
    "import matplotlib.pyplot as plt\n",
    "from IPython import display\n",
    "%matplotlib inline\n",
    "x=np.arange(0,2500,1)\n",
    "y=np.arange(-125,125,0.1)\n",
    "\n",
    "Gm=0.001\n",
    "k=0.16\n",
    "I0=2250\n",
    "Ik=50\n",
    "zerogrowth=Gm*np.tanh((I0*np.exp(-k*0))/Ik)\n",
    "\n",
    "for t in range (0,100000,1000):\n",
    "    sl=np.zeros(len(y))\n",
    "    z=sl-y\n",
    "    z=np.where(z<0.,0.,z)\n",
    "    G=Gm*np.tanh((I0*np.exp(-k*z))/Ik)\n",
    "    G=np.where(G>=zerogrowth,0.,G)\n",
    "    y=np.add(y, G*1000)\n",
    "    y=np.add(y,-0.25)\n",
    "    ax1=plt.plot(x, y, c='k')\n",
    "    ax2=plt.plot(x, sl, c='b')\n",
    "    display.clear_output(wait=True)\n",
    "    plt.show()\n",
    "    plt.xlabel('Cross section distance (m)')\n",
    "    plt.ylabel('Elevation relative to sealevel (m)')\n"
   ]
  },
  {
   "cell_type": "code",
   "execution_count": null,
   "metadata": {},
   "outputs": [],
   "source": []
  }
 ],
 "metadata": {
  "kernelspec": {
   "display_name": "Python 3",
   "language": "python",
   "name": "python3"
  },
  "language_info": {
   "codemirror_mode": {
    "name": "ipython",
    "version": 3
   },
   "file_extension": ".py",
   "mimetype": "text/x-python",
   "name": "python",
   "nbconvert_exporter": "python",
   "pygments_lexer": "ipython3",
   "version": "3.6.4"
  }
 },
 "nbformat": 4,
 "nbformat_minor": 2
}
