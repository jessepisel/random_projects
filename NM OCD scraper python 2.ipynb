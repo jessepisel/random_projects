{
 "cells": [
  {
   "cell_type": "code",
   "execution_count": 120,
   "metadata": {
    "collapsed": true
   },
   "outputs": [],
   "source": [
    "import requests, bs4, time, os\n",
    "import numpy as np"
   ]
  },
  {
   "cell_type": "code",
   "execution_count": 121,
   "metadata": {
    "collapsed": true
   },
   "outputs": [],
   "source": [
    "well_api_number=[30015215980000,30015256300000]\n"
   ]
  },
  {
   "cell_type": "code",
   "execution_count": 123,
   "metadata": {
    "collapsed": false
   },
   "outputs": [],
   "source": [
    "number_of_files=[]\n",
    "for well in well_api_number:\n",
    "    newpath = ((r'D:/NM logs/%s') % (well)) \n",
    "    if not os.path.exists(newpath): os.makedirs(newpath)\n",
    "    response1 = requests.get('http://ocdimage.emnrd.state.nm.us/imaging/WellFileView.aspx?RefType=WF&RefID='+str(well)) #scrapes the individual well docs page\n",
    "    soup2=bs4.BeautifulSoup(response1.text, \"lxml\")\n",
    "    links=[]\n",
    "    for a in soup2.find_all('a', href=True):\n",
    "        links.append(a['href'])\n",
    "    links=links[8:-3]\n",
    "    number_of_files.append(len(links))\n",
    "    for i in range(len(links)-1):\n",
    "        try:\n",
    "            r=requests.get(links[i])\n",
    "            with open('D:/NM logs/'+str(well)+'/file'+str(i)+'.pdf',\"wb\") as pdf:\n",
    "                for chunk in r.iter_content(chunk_size=1024):\n",
    "                    if chunk:\n",
    "                        pdf.write(chunk)\n",
    "        \n",
    "        except:\n",
    "            pass"
   ]
  },
  {
   "cell_type": "code",
   "execution_count": 167,
   "metadata": {
    "collapsed": false
   },
   "outputs": [
    {
     "name": "stdout",
     "output_type": "stream",
     "text": [
      "pages =  1\n",
      "pages =  1\n",
      "pages =  1\n",
      "pages =  1\n",
      "pages =  1\n",
      "pages =  1\n",
      "pages =  1\n",
      "pages =  1\n",
      "pages =  2\n",
      "pages =  1\n",
      "pages =  1\n",
      "pages =  1\n",
      "pages =  1\n",
      "pages =  2\n",
      "pages =  1\n",
      "pages =  1\n",
      "pages =  1\n",
      "pages =  1\n",
      "pages =  1\n",
      "pages =  1\n",
      "pages =  1\n",
      "pages =  1\n",
      "pages =  1\n",
      "pages =  1\n",
      "pages =  1\n",
      "pages =  1\n",
      "pages =  1\n",
      "pages =  1\n",
      "pages =  1\n",
      "pages =  1\n",
      "pages =  1\n",
      "pages =  1\n",
      "pages =  3\n",
      "pages =  1\n",
      "pages =  1\n",
      "pages =  1\n",
      "pages =  1\n",
      "pages =  1\n",
      "pages =  1\n",
      "pages =  4\n",
      "pages =  3\n",
      "pages =  3\n",
      "pages =  1\n",
      "pages =  1\n",
      "pages =  1\n",
      "pages =  1\n",
      "pages =  1\n",
      "pages =  1\n",
      "pages =  1\n",
      "pages =  1\n",
      "pages =  1\n",
      "pages =  5\n",
      "pages =  1\n",
      "pages =  1\n",
      "pages =  1\n",
      "pages =  1\n",
      "pages =  1\n",
      "pages =  1\n",
      "pages =  1\n",
      "pages =  1\n",
      "pages =  2\n",
      "pages =  1\n",
      "pages =  1\n",
      "pages =  1\n",
      "pages =  2\n",
      "pages =  3\n",
      "pages =  5\n",
      "pages =  5\n",
      "pages =  1\n",
      "pages =  2\n",
      "pages =  2\n",
      "pages =  1\n",
      "pages =  3\n",
      "pages =  5\n",
      "pages =  2\n"
     ]
    }
   ],
   "source": [
    "from __future__ import print_function\n",
    "from wand.image import Image\n",
    "\n",
    "for well in range(len(well_api_number)):\n",
    "    for items in range(number_of_files[well]-1):\n",
    "        with Image(filename='D:/NM logs/'+str(well_api_number[well])+'/file'+str(items)+'.pdf', resolution=300) as img:\n",
    "            print('pages = ', len(img.sequence))\n",
    "            with img.convert('jpg') as converted:\n",
    "                converted.save(filename='D:/NM logs/'+str(well_api_number[well])+'/page-'+str(items)+'.jpg')"
   ]
  },
  {
   "cell_type": "code",
   "execution_count": 170,
   "metadata": {
    "collapsed": false
   },
   "outputs": [],
   "source": [
    "import pytesseract\n",
    "from PIL import Image\n",
    "tessdata_dir_config = '--tessdata-dir \"C:\\\\Program Files (x86)\\\\Tesseract-OCR\\\\tessdata\"'\n",
    "\n",
    "documents=[]\n",
    "\n",
    "for well in range(len(well_api_number)):\n",
    "    for items in range(number_of_files[well]-1):\n",
    "        try:\n",
    "            text=pytesseract.image_to_string(Image.open('D:/NM logs/'+str(well_api_number[well])+'/page-'+str(items)+'.jpg').convert('L'),config=tessdata_dir_config)\n",
    "            documents.append(text)\n",
    "        except:\n",
    "            try:\n",
    "                for i in range(10):\n",
    "                    text=pytesseract.image_to_string(Image.open('D:/NM logs/'+str(well_api_number[well])+'/page-'+str(items)+'-'+str(i)+'.jpg').convert('L'),config=tessdata_dir_config)\n",
    "                    documents.append(text)\n",
    "            except:\n",
    "                pass\n",
    "            "
   ]
  },
  {
   "cell_type": "code",
   "execution_count": 171,
   "metadata": {
    "collapsed": false
   },
   "outputs": [
    {
     "data": {
      "text/plain": [
       "u'Jaw 62/5- 2/57?\\n\\n \\n\\n  \\n \\n\\n \\n\\n \\n\\n \\n\\nDEUCEBILE\\'B NEW MEXICO OIL C0NSERVA\\xa70ECE\\xa71MIESS\\xa7DNV )brm (xxm\\nSANTA FE ~ E D\\u2019 Hevmm H\\u2014as\\nFILE SA. lndi~(:u\\\\n Type of Letty}:-\\n\\n \\n\\nJUL 2 9 1975 39m\\u201d\\n\\n\\u2018l3.CLl3. \"\\u2018 \\u2018 \\u201d \\' \"\"\\u201c\\u2019\\\\\\\\\\nAPPLICATION FOR\\u2018PERMIT TO DRILL, DEEPEN, OR PLi\\u2019 \\u201c5\\u20181 KDFFIC: \\\\ .__ \\ufb02 _,,\\n\\n[1.5.6 .5.\\n\\n \\n\\n\\u2018 LAND OFFICE\\nOPERATOR\\n\\n \\n\\n \\n\\n \\n\\n \\n\\n \\n\\n \\n\\nWM\\nla. Type of Work 7. Unit Aqrmnneni Nunv;\\nDRILL . DEEPEN PLUG BACK\\nb. Type of Wall E] [:1 8. Hum or men Name:\\n3%\\u201d Ed :21.. [:1 \\u201c22:: [:1 \"\"\\u201c2\\'2: [:1 Spurck \\'1\\u2018\\u201d s ta te\\n2. Name 0! ()pcmmr 9. Well No.1 \\u2014\\ns. P. Yatesw\\u2014 5\\n3. Address of Operator 10. l\\u2018lc-M and Paul, or Wildcat\\n207 South 4th Street ~ Artesia, NM 88210 Red Lake\\n\\n \\n\\ni: :::::::::-\\u2014-\\u2014  *:\\xb0.::\\':::\"\\u2014\\u2014i\\u201d36 :::i\\u2014\\u2014* g: \\\\\\\\\\\\\\n\\\\\\\\\\\\\\\\\\\\\\\\\\\\\\\\\\\\\\\\\\\\\\\\\\\\\\\\\\\\\\\\\\u201c\\n\\n \\n\\n \\n\\n \\n\\n \\n\\n \\n\\n \\n\\n2 . Elevations (Show whether DP; R\\'I; etc.) 21A. Kind 6. Status Pluq. Bond 2113. Drilling Contractor 22. Approx. [)atc Work will start\\n3560\\' GR Blanket Unknown 5 soon as approved\\na.\\nPROPOSEDCAHNGANDCEMENTPROGRAM\\n$ZECM=HOLE $ZECH=CASHKS WEGHTPERFOOT\\u2018SETTHKSDEPTH SACKSOFCEMENT EST.TOP\\nIU\" 8\\u2014578\\u201c 24% Appox 5001 50 sacks Circulate\\n8\" 515\\u2018\" 15.54; \" 2500\\' 200 sx\\n\\n \\n\\nWe propose to drill a San Andres test w/Cable Tools. 8\\u20145/8\\u201c casing\\nwill be set at approx. 500\\' and cement circulated and 1f production is\\nencountered, will run 5%\\u201c production casing.\\n\\n8\\u20145/8\\u201d control Head for Cable Tool will be installed.\\n\\nAPPROVAL VALID\\nFOR 90 DAYS UNLESS\\nDRILLING COMMENCED,\\n\\n#41211...\\n\\nEXPIRES\\n\\n \\n\\nIN ABOVE SPACE DESCRIBE PROPOSED PROGRAM: IF PROPOSAL IS TO DEEPEN OR PLUG BACK, GIVE DATA ON PRESENT PRODUCTIVE ZONE AND FROFOSED NEW PRODUC-\\nTlVE ZONE. GIVE BLOWOUY PREVENTER PROGRAM. IF ANY.\\n\\n \\n\\nI hereby certify that the information above is true and complme to the best of my knowledge and belief.\\n\\n \\n \\n\\n \\n\\n \\n\\n \\n\\n  \\n\\n:;;7 7 - rmc Engineer _ Dme 7-28\\u201475\\n\\nM1133\\u201c.\\nCT Li AUG 41975\\n\\n\\u2018 f\\n:71 \"D \"I 7 \\u2018 .\\nAPPROVED By\\ufb02 g TIYLE SUPERVlSUn, UiSTRL . , DATE\\n\\nCONDITIONS OF APPROVAL. IF ANY:\\n\\n \\n\\n \\n\\npace for State Use)'"
      ]
     },
     "execution_count": 171,
     "metadata": {},
     "output_type": "execute_result"
    }
   ],
   "source": [
    "documents[2]"
   ]
  },
  {
   "cell_type": "code",
   "execution_count": 177,
   "metadata": {
    "collapsed": false
   },
   "outputs": [
    {
     "name": "stdout",
     "output_type": "stream",
     "text": [
      "Wall time: 81 ms\n"
     ]
    }
   ],
   "source": [
    "from sklearn.feature_extraction.text import TfidfVectorizer\n",
    "from sklearn.cluster import KMeans\n",
    "from sklearn.metrics import adjusted_rand_score\n",
    "\n",
    "vectorizer = TfidfVectorizer(stop_words='english')\n",
    "%time X = vectorizer.fit_transform(documents)"
   ]
  },
  {
   "cell_type": "code",
   "execution_count": 178,
   "metadata": {
    "collapsed": false
   },
   "outputs": [
    {
     "name": "stdout",
     "output_type": "stream",
     "text": [
      "Wall time: 9 ms\n"
     ]
    }
   ],
   "source": [
    "true_k = 3\n",
    "model = KMeans(n_clusters=true_k, init='k-means++', max_iter=1000, n_init=1)\n",
    "%time data=model.fit(X)"
   ]
  },
  {
   "cell_type": "code",
   "execution_count": 179,
   "metadata": {
    "collapsed": false
   },
   "outputs": [
    {
     "data": {
      "text/plain": [
       "<matplotlib.legend.Legend at 0xf0a7f60>"
      ]
     },
     "execution_count": 179,
     "metadata": {},
     "output_type": "execute_result"
    },
    {
     "data": {
      "image/png": "[encoded data removed]",
      "text/plain": [
       "<matplotlib.figure.Figure at 0x127d9320>"
      ]
     },
     "metadata": {},
     "output_type": "display_data"
    }
   ],
   "source": [
    "from sklearn.decomposition import PCA\n",
    "import matplotlib.pyplot as plt\n",
    "%matplotlib inline\n",
    "\n",
    "pca = PCA(n_components=2).fit(X.toarray())\n",
    "data2D = pca.transform(X.toarray())\n",
    "\n",
    "plt.scatter(data2D[:,0], data2D[:,1],c=data.labels_, cmap='jet', label=data.labels_)\n",
    "plt.legend((data.labels_), loc=2)"
   ]
  },
  {
   "cell_type": "code",
   "execution_count": 197,
   "metadata": {
    "collapsed": false
   },
   "outputs": [],
   "source": [
    "from nltk.tokenize import word_tokenize\n",
    "from nltk.corpus import stopwords\n",
    "punctuations = ['(',')',';',':','[',']',',', '.', '_', '~', '...']\n",
    "stop_words = stopwords.words('english')\n",
    "all_keys=[]\n",
    "for i in range(len(documents)):\n",
    "    tokens = word_tokenize(documents[i])\n",
    "    keywords = [word for word in tokens if not word in stop_words and  not word in punctuations]\n",
    "    all_keys.append(keywords)"
   ]
  },
  {
   "cell_type": "code",
   "execution_count": 199,
   "metadata": {
    "collapsed": false
   },
   "outputs": [
    {
     "name": "stdout",
     "output_type": "stream",
     "text": [
      "[]\n"
     ]
    }
   ],
   "source": [
    "from nltk.corpus import words\n",
    "\n",
    "final=[]\n",
    "for x in all_keys:\n",
    "    if x in words.words():\n",
    "        final.append(x)\n",
    "print(final)"
   ]
  },
  {
   "cell_type": "code",
   "execution_count": 189,
   "metadata": {
    "collapsed": false
   },
   "outputs": [
    {
     "data": {
      "text/plain": [
       "'yates'"
      ]
     },
     "execution_count": 189,
     "metadata": {},
     "output_type": "execute_result"
    }
   ],
   "source": [
    "from autocorrect import spell\n",
    "spell(\"yates\")\n"
   ]
  },
  {
   "cell_type": "code",
   "execution_count": 267,
   "metadata": {
    "collapsed": false
   },
   "outputs": [],
   "source": [
    "clean_keys=[]\n",
    "for j in range(3):\n",
    "    hot=[]\n",
    "    for i in range(len(all_keys[j])):\n",
    "        if spell(all_keys[j][i]).lower() in words.words() and not stop_words:\n",
    "            hot.append(spell(all_keys[j][i]).lower())\n",
    "    clean_keys.append(hot)\n",
    "        "
   ]
  },
  {
   "cell_type": "code",
   "execution_count": 268,
   "metadata": {
    "collapsed": false
   },
   "outputs": [
    {
     "name": "stdout",
     "output_type": "stream",
     "text": [
      "\n"
     ]
    }
   ],
   "source": [
    "tested=' '.join(clean_keys[2])\n",
    "print(tested)"
   ]
  },
  {
   "cell_type": "code",
   "execution_count": 260,
   "metadata": {
    "collapsed": false
   },
   "outputs": [
    {
     "ename": "AttributeError",
     "evalue": "'list' object has no attribute 'lower'",
     "output_type": "error",
     "traceback": [
      "\u001b[0;31m---------------------------------------------------------------------------\u001b[0m",
      "\u001b[0;31mAttributeError\u001b[0m                            Traceback (most recent call last)",
      "\u001b[0;32m<ipython-input-260-b659ce2faf02>\u001b[0m in \u001b[0;36m<module>\u001b[0;34m()\u001b[0m\n\u001b[1;32m      4\u001b[0m \u001b[1;33m\u001b[0m\u001b[0m\n\u001b[1;32m      5\u001b[0m \u001b[0mvectorizer\u001b[0m \u001b[1;33m=\u001b[0m \u001b[0mTfidfVectorizer\u001b[0m\u001b[1;33m(\u001b[0m\u001b[0mstop_words\u001b[0m\u001b[1;33m=\u001b[0m\u001b[1;34m'english'\u001b[0m\u001b[1;33m)\u001b[0m\u001b[1;33m\u001b[0m\u001b[0m\n\u001b[0;32m----> 6\u001b[0;31m \u001b[0mget_ipython\u001b[0m\u001b[1;33m(\u001b[0m\u001b[1;33m)\u001b[0m\u001b[1;33m.\u001b[0m\u001b[0mmagic\u001b[0m\u001b[1;33m(\u001b[0m\u001b[1;34mu'time X = vectorizer.fit_transform(clean_keys)'\u001b[0m\u001b[1;33m)\u001b[0m\u001b[1;33m\u001b[0m\u001b[0m\n\u001b[0m",
      "\u001b[0;32mC:\\Users\\jpisel\\AppData\\Local\\Continuum\\Anaconda2\\lib\\site-packages\\IPython\\core\\interactiveshell.pyc\u001b[0m in \u001b[0;36mmagic\u001b[0;34m(self, arg_s)\u001b[0m\n\u001b[1;32m   2156\u001b[0m         \u001b[0mmagic_name\u001b[0m\u001b[1;33m,\u001b[0m \u001b[0m_\u001b[0m\u001b[1;33m,\u001b[0m \u001b[0mmagic_arg_s\u001b[0m \u001b[1;33m=\u001b[0m \u001b[0marg_s\u001b[0m\u001b[1;33m.\u001b[0m\u001b[0mpartition\u001b[0m\u001b[1;33m(\u001b[0m\u001b[1;34m' '\u001b[0m\u001b[1;33m)\u001b[0m\u001b[1;33m\u001b[0m\u001b[0m\n\u001b[1;32m   2157\u001b[0m         \u001b[0mmagic_name\u001b[0m \u001b[1;33m=\u001b[0m \u001b[0mmagic_name\u001b[0m\u001b[1;33m.\u001b[0m\u001b[0mlstrip\u001b[0m\u001b[1;33m(\u001b[0m\u001b[0mprefilter\u001b[0m\u001b[1;33m.\u001b[0m\u001b[0mESC_MAGIC\u001b[0m\u001b[1;33m)\u001b[0m\u001b[1;33m\u001b[0m\u001b[0m\n\u001b[0;32m-> 2158\u001b[0;31m         \u001b[1;32mreturn\u001b[0m \u001b[0mself\u001b[0m\u001b[1;33m.\u001b[0m\u001b[0mrun_line_magic\u001b[0m\u001b[1;33m(\u001b[0m\u001b[0mmagic_name\u001b[0m\u001b[1;33m,\u001b[0m \u001b[0mmagic_arg_s\u001b[0m\u001b[1;33m)\u001b[0m\u001b[1;33m\u001b[0m\u001b[0m\n\u001b[0m\u001b[1;32m   2159\u001b[0m \u001b[1;33m\u001b[0m\u001b[0m\n\u001b[1;32m   2160\u001b[0m     \u001b[1;31m#-------------------------------------------------------------------------\u001b[0m\u001b[1;33m\u001b[0m\u001b[1;33m\u001b[0m\u001b[0m\n",
      "\u001b[0;32mC:\\Users\\jpisel\\AppData\\Local\\Continuum\\Anaconda2\\lib\\site-packages\\IPython\\core\\interactiveshell.pyc\u001b[0m in \u001b[0;36mrun_line_magic\u001b[0;34m(self, magic_name, line)\u001b[0m\n\u001b[1;32m   2077\u001b[0m                 \u001b[0mkwargs\u001b[0m\u001b[1;33m[\u001b[0m\u001b[1;34m'local_ns'\u001b[0m\u001b[1;33m]\u001b[0m \u001b[1;33m=\u001b[0m \u001b[0msys\u001b[0m\u001b[1;33m.\u001b[0m\u001b[0m_getframe\u001b[0m\u001b[1;33m(\u001b[0m\u001b[0mstack_depth\u001b[0m\u001b[1;33m)\u001b[0m\u001b[1;33m.\u001b[0m\u001b[0mf_locals\u001b[0m\u001b[1;33m\u001b[0m\u001b[0m\n\u001b[1;32m   2078\u001b[0m             \u001b[1;32mwith\u001b[0m \u001b[0mself\u001b[0m\u001b[1;33m.\u001b[0m\u001b[0mbuiltin_trap\u001b[0m\u001b[1;33m:\u001b[0m\u001b[1;33m\u001b[0m\u001b[0m\n\u001b[0;32m-> 2079\u001b[0;31m                 \u001b[0mresult\u001b[0m \u001b[1;33m=\u001b[0m \u001b[0mfn\u001b[0m\u001b[1;33m(\u001b[0m\u001b[1;33m*\u001b[0m\u001b[0margs\u001b[0m\u001b[1;33m,\u001b[0m\u001b[1;33m**\u001b[0m\u001b[0mkwargs\u001b[0m\u001b[1;33m)\u001b[0m\u001b[1;33m\u001b[0m\u001b[0m\n\u001b[0m\u001b[1;32m   2080\u001b[0m             \u001b[1;32mreturn\u001b[0m \u001b[0mresult\u001b[0m\u001b[1;33m\u001b[0m\u001b[0m\n\u001b[1;32m   2081\u001b[0m \u001b[1;33m\u001b[0m\u001b[0m\n",
      "\u001b[0;32m<decorator-gen-60>\u001b[0m in \u001b[0;36mtime\u001b[0;34m(self, line, cell, local_ns)\u001b[0m\n",
      "\u001b[0;32mC:\\Users\\jpisel\\AppData\\Local\\Continuum\\Anaconda2\\lib\\site-packages\\IPython\\core\\magic.pyc\u001b[0m in \u001b[0;36m<lambda>\u001b[0;34m(f, *a, **k)\u001b[0m\n\u001b[1;32m    186\u001b[0m     \u001b[1;31m# but it's overkill for just that one bit of state.\u001b[0m\u001b[1;33m\u001b[0m\u001b[1;33m\u001b[0m\u001b[0m\n\u001b[1;32m    187\u001b[0m     \u001b[1;32mdef\u001b[0m \u001b[0mmagic_deco\u001b[0m\u001b[1;33m(\u001b[0m\u001b[0marg\u001b[0m\u001b[1;33m)\u001b[0m\u001b[1;33m:\u001b[0m\u001b[1;33m\u001b[0m\u001b[0m\n\u001b[0;32m--> 188\u001b[0;31m         \u001b[0mcall\u001b[0m \u001b[1;33m=\u001b[0m \u001b[1;32mlambda\u001b[0m \u001b[0mf\u001b[0m\u001b[1;33m,\u001b[0m \u001b[1;33m*\u001b[0m\u001b[0ma\u001b[0m\u001b[1;33m,\u001b[0m \u001b[1;33m**\u001b[0m\u001b[0mk\u001b[0m\u001b[1;33m:\u001b[0m \u001b[0mf\u001b[0m\u001b[1;33m(\u001b[0m\u001b[1;33m*\u001b[0m\u001b[0ma\u001b[0m\u001b[1;33m,\u001b[0m \u001b[1;33m**\u001b[0m\u001b[0mk\u001b[0m\u001b[1;33m)\u001b[0m\u001b[1;33m\u001b[0m\u001b[0m\n\u001b[0m\u001b[1;32m    189\u001b[0m \u001b[1;33m\u001b[0m\u001b[0m\n\u001b[1;32m    190\u001b[0m         \u001b[1;32mif\u001b[0m \u001b[0mcallable\u001b[0m\u001b[1;33m(\u001b[0m\u001b[0marg\u001b[0m\u001b[1;33m)\u001b[0m\u001b[1;33m:\u001b[0m\u001b[1;33m\u001b[0m\u001b[0m\n",
      "\u001b[0;32mC:\\Users\\jpisel\\AppData\\Local\\Continuum\\Anaconda2\\lib\\site-packages\\IPython\\core\\magics\\execution.pyc\u001b[0m in \u001b[0;36mtime\u001b[0;34m(self, line, cell, local_ns)\u001b[0m\n\u001b[1;32m   1178\u001b[0m         \u001b[1;32melse\u001b[0m\u001b[1;33m:\u001b[0m\u001b[1;33m\u001b[0m\u001b[0m\n\u001b[1;32m   1179\u001b[0m             \u001b[0mst\u001b[0m \u001b[1;33m=\u001b[0m \u001b[0mclock2\u001b[0m\u001b[1;33m(\u001b[0m\u001b[1;33m)\u001b[0m\u001b[1;33m\u001b[0m\u001b[0m\n\u001b[0;32m-> 1180\u001b[0;31m             \u001b[1;32mexec\u001b[0m\u001b[1;33m(\u001b[0m\u001b[0mcode\u001b[0m\u001b[1;33m,\u001b[0m \u001b[0mglob\u001b[0m\u001b[1;33m,\u001b[0m \u001b[0mlocal_ns\u001b[0m\u001b[1;33m)\u001b[0m\u001b[1;33m\u001b[0m\u001b[0m\n\u001b[0m\u001b[1;32m   1181\u001b[0m             \u001b[0mend\u001b[0m \u001b[1;33m=\u001b[0m \u001b[0mclock2\u001b[0m\u001b[1;33m(\u001b[0m\u001b[1;33m)\u001b[0m\u001b[1;33m\u001b[0m\u001b[0m\n\u001b[1;32m   1182\u001b[0m             \u001b[0mout\u001b[0m \u001b[1;33m=\u001b[0m \u001b[0mNone\u001b[0m\u001b[1;33m\u001b[0m\u001b[0m\n",
      "\u001b[0;32m<timed exec>\u001b[0m in \u001b[0;36m<module>\u001b[0;34m()\u001b[0m\n",
      "\u001b[0;32mC:\\Users\\jpisel\\AppData\\Local\\Continuum\\Anaconda2\\lib\\site-packages\\sklearn\\feature_extraction\\text.pyc\u001b[0m in \u001b[0;36mfit_transform\u001b[0;34m(self, raw_documents, y)\u001b[0m\n\u001b[1;32m   1303\u001b[0m             \u001b[0mTf\u001b[0m\u001b[1;33m-\u001b[0m\u001b[0midf\u001b[0m\u001b[1;33m-\u001b[0m\u001b[0mweighted\u001b[0m \u001b[0mdocument\u001b[0m\u001b[1;33m-\u001b[0m\u001b[0mterm\u001b[0m \u001b[0mmatrix\u001b[0m\u001b[1;33m.\u001b[0m\u001b[1;33m\u001b[0m\u001b[0m\n\u001b[1;32m   1304\u001b[0m         \"\"\"\n\u001b[0;32m-> 1305\u001b[0;31m         \u001b[0mX\u001b[0m \u001b[1;33m=\u001b[0m \u001b[0msuper\u001b[0m\u001b[1;33m(\u001b[0m\u001b[0mTfidfVectorizer\u001b[0m\u001b[1;33m,\u001b[0m \u001b[0mself\u001b[0m\u001b[1;33m)\u001b[0m\u001b[1;33m.\u001b[0m\u001b[0mfit_transform\u001b[0m\u001b[1;33m(\u001b[0m\u001b[0mraw_documents\u001b[0m\u001b[1;33m)\u001b[0m\u001b[1;33m\u001b[0m\u001b[0m\n\u001b[0m\u001b[1;32m   1306\u001b[0m         \u001b[0mself\u001b[0m\u001b[1;33m.\u001b[0m\u001b[0m_tfidf\u001b[0m\u001b[1;33m.\u001b[0m\u001b[0mfit\u001b[0m\u001b[1;33m(\u001b[0m\u001b[0mX\u001b[0m\u001b[1;33m)\u001b[0m\u001b[1;33m\u001b[0m\u001b[0m\n\u001b[1;32m   1307\u001b[0m         \u001b[1;31m# X is already a transformed view of raw_documents so\u001b[0m\u001b[1;33m\u001b[0m\u001b[1;33m\u001b[0m\u001b[0m\n",
      "\u001b[0;32mC:\\Users\\jpisel\\AppData\\Local\\Continuum\\Anaconda2\\lib\\site-packages\\sklearn\\feature_extraction\\text.pyc\u001b[0m in \u001b[0;36mfit_transform\u001b[0;34m(self, raw_documents, y)\u001b[0m\n\u001b[1;32m    815\u001b[0m \u001b[1;33m\u001b[0m\u001b[0m\n\u001b[1;32m    816\u001b[0m         vocabulary, X = self._count_vocab(raw_documents,\n\u001b[0;32m--> 817\u001b[0;31m                                           self.fixed_vocabulary_)\n\u001b[0m\u001b[1;32m    818\u001b[0m \u001b[1;33m\u001b[0m\u001b[0m\n\u001b[1;32m    819\u001b[0m         \u001b[1;32mif\u001b[0m \u001b[0mself\u001b[0m\u001b[1;33m.\u001b[0m\u001b[0mbinary\u001b[0m\u001b[1;33m:\u001b[0m\u001b[1;33m\u001b[0m\u001b[0m\n",
      "\u001b[0;32mC:\\Users\\jpisel\\AppData\\Local\\Continuum\\Anaconda2\\lib\\site-packages\\sklearn\\feature_extraction\\text.pyc\u001b[0m in \u001b[0;36m_count_vocab\u001b[0;34m(self, raw_documents, fixed_vocab)\u001b[0m\n\u001b[1;32m    750\u001b[0m         \u001b[0mindptr\u001b[0m\u001b[1;33m.\u001b[0m\u001b[0mappend\u001b[0m\u001b[1;33m(\u001b[0m\u001b[1;36m0\u001b[0m\u001b[1;33m)\u001b[0m\u001b[1;33m\u001b[0m\u001b[0m\n\u001b[1;32m    751\u001b[0m         \u001b[1;32mfor\u001b[0m \u001b[0mdoc\u001b[0m \u001b[1;32min\u001b[0m \u001b[0mraw_documents\u001b[0m\u001b[1;33m:\u001b[0m\u001b[1;33m\u001b[0m\u001b[0m\n\u001b[0;32m--> 752\u001b[0;31m             \u001b[1;32mfor\u001b[0m \u001b[0mfeature\u001b[0m \u001b[1;32min\u001b[0m \u001b[0manalyze\u001b[0m\u001b[1;33m(\u001b[0m\u001b[0mdoc\u001b[0m\u001b[1;33m)\u001b[0m\u001b[1;33m:\u001b[0m\u001b[1;33m\u001b[0m\u001b[0m\n\u001b[0m\u001b[1;32m    753\u001b[0m                 \u001b[1;32mtry\u001b[0m\u001b[1;33m:\u001b[0m\u001b[1;33m\u001b[0m\u001b[0m\n\u001b[1;32m    754\u001b[0m                     \u001b[0mj_indices\u001b[0m\u001b[1;33m.\u001b[0m\u001b[0mappend\u001b[0m\u001b[1;33m(\u001b[0m\u001b[0mvocabulary\u001b[0m\u001b[1;33m[\u001b[0m\u001b[0mfeature\u001b[0m\u001b[1;33m]\u001b[0m\u001b[1;33m)\u001b[0m\u001b[1;33m\u001b[0m\u001b[0m\n",
      "\u001b[0;32mC:\\Users\\jpisel\\AppData\\Local\\Continuum\\Anaconda2\\lib\\site-packages\\sklearn\\feature_extraction\\text.pyc\u001b[0m in \u001b[0;36m<lambda>\u001b[0;34m(doc)\u001b[0m\n\u001b[1;32m    236\u001b[0m \u001b[1;33m\u001b[0m\u001b[0m\n\u001b[1;32m    237\u001b[0m             return lambda doc: self._word_ngrams(\n\u001b[0;32m--> 238\u001b[0;31m                 tokenize(preprocess(self.decode(doc))), stop_words)\n\u001b[0m\u001b[1;32m    239\u001b[0m \u001b[1;33m\u001b[0m\u001b[0m\n\u001b[1;32m    240\u001b[0m         \u001b[1;32melse\u001b[0m\u001b[1;33m:\u001b[0m\u001b[1;33m\u001b[0m\u001b[0m\n",
      "\u001b[0;32mC:\\Users\\jpisel\\AppData\\Local\\Continuum\\Anaconda2\\lib\\site-packages\\sklearn\\feature_extraction\\text.pyc\u001b[0m in \u001b[0;36m<lambda>\u001b[0;34m(x)\u001b[0m\n\u001b[1;32m    202\u001b[0m \u001b[1;33m\u001b[0m\u001b[0m\n\u001b[1;32m    203\u001b[0m         \u001b[1;32mif\u001b[0m \u001b[0mself\u001b[0m\u001b[1;33m.\u001b[0m\u001b[0mlowercase\u001b[0m\u001b[1;33m:\u001b[0m\u001b[1;33m\u001b[0m\u001b[0m\n\u001b[0;32m--> 204\u001b[0;31m             \u001b[1;32mreturn\u001b[0m \u001b[1;32mlambda\u001b[0m \u001b[0mx\u001b[0m\u001b[1;33m:\u001b[0m \u001b[0mstrip_accents\u001b[0m\u001b[1;33m(\u001b[0m\u001b[0mx\u001b[0m\u001b[1;33m.\u001b[0m\u001b[0mlower\u001b[0m\u001b[1;33m(\u001b[0m\u001b[1;33m)\u001b[0m\u001b[1;33m)\u001b[0m\u001b[1;33m\u001b[0m\u001b[0m\n\u001b[0m\u001b[1;32m    205\u001b[0m         \u001b[1;32melse\u001b[0m\u001b[1;33m:\u001b[0m\u001b[1;33m\u001b[0m\u001b[0m\n\u001b[1;32m    206\u001b[0m             \u001b[1;32mreturn\u001b[0m \u001b[0mstrip_accents\u001b[0m\u001b[1;33m\u001b[0m\u001b[0m\n",
      "\u001b[0;31mAttributeError\u001b[0m: 'list' object has no attribute 'lower'"
     ]
    }
   ],
   "source": [
    "from sklearn.feature_extraction.text import TfidfVectorizer\n",
    "from sklearn.cluster import KMeans\n",
    "from sklearn.metrics import adjusted_rand_score\n",
    "\n",
    "vectorizer = TfidfVectorizer(stop_words='english')\n",
    "%time X = vectorizer.fit_transform(clean_keys)"
   ]
  },
  {
   "cell_type": "code",
   "execution_count": 259,
   "metadata": {
    "collapsed": false
   },
   "outputs": [
    {
     "data": {
      "text/plain": [
       "u'\\\\\\\\\\n\\nNE... ,msxtco 05L CONSERVATION COMMISSIL..\\nWELL LOCATION AND ACREAGE DEDICATION PLAT\\n\\ntbnn (7 ~102\\nSupcrs vdus (.3128\\n\\n[Effective 1-1-65\\n\\nAH dlslunces must he (mm the outor houndnrh s of the Sn-ction.\\n\\n[pbPSPURCK\\u201c?\\u201d\\nDXXT \\u2018\\n\\n1mm 1%}:\\u201c471 4\\nm\\xe9ga\\ufb01\\n\\xa31;\\n\\n\\u20189 15%\\nPmJuCinq Formation\\n\\nAggy\\nGroumli\\'vac-l zlluv. I 001 Dodxratvd Acronqo:\\n33 4 0 San Andres Red Lake 5/0\\n\\n1. Outline the acreage dedicated to the subject well by colored pencil 0r huchure marks on the plat below,\\n\\n \\n\\n \\n\\n    \\n  \\n \\n\\nOperntm 3. .\\n\\n2ng \\xa7?-\\n\\nnn [Lv-W -r Soctlin\\n\\nA [\\xe9\\n\\nActual 1\\u20190:thqu Location of Well:\\n\\n/(\\'\\n\\n    \\n  \\n\\n \\n    \\n  \\n \\n  \\n\\n  \\n\\n  \\n   \\n   \\n \\n\\n \\n\\n  \\n\\n(Pet {mm the llne\\n\\n164:5? \\u2019\\n\\n10m (mm the line (mi\\n\\nAcres\\n\\n \\n\\n2. If more than one lease is dedicated to the well, outline each and identify the ownership thereof (holh us to working\\ninterest and royalty).\\n\\n3. If more than one lease of different ownership is dedicated to the well, have the interests of all owners been consoli-\\n\\ndated by communitization, unitization, force\\u2014poolingetc?\\n\\n[:1 Yes I: No\\n\\nIf answer is\\n\\nIf answer is \\u201cyes:, type of consolidation\\n\\n \\n\\n \\n\\n\\u20180\\n\\n1101\\u2019 list the owners and tract descriptions which have actually been consolidated. (Use reverse side of\\n\\nthis form if necessary.)\\n\\n \\n\\nNo allowable will be assigned to the well until all interests have been consolidated (by comnmnitization, unitization,\\nforced-pooling, 0r otherwise)or until a non-standurd unit, eliminating such interests, has been approved by the Commis-\\n\\nJ\\n\\nsion.\\n\\nCERTI FICATION\\n\\nI hereby certify that the information con-\\ntained herein is true and complete t6 the\\n\\nbest of my knowledge and belief.\\n\\n42;;\\n\\n \\n\\n \\n\\n \\n\\n \\n\\nNam\\nPosition\\nEngineer\\nCompany\\nS. P. YATES\\n\\n \\n\\n \\n\\nmeJuly 28, 1975\\n\\n \\n\\n \\n\\n \\n\\n1\\u201c\\n\\nI hereby 1&5? WWW\\n\\nthye .%\\u20acgcafion\\nshown orn\\ufb02l\\ufb01sir? \\u201dMED\\u201d g\\xe9afr\\xe9\\ufb02\\'eld\\n\\nnotes \\xb0f$n\\xa731_ s rvl\\u2018\\ufb01g.\\xb0 mde \\xa7yw me or\\n\\n   \\n  \\n\\n \\n\\n5\\u2019\\nknowledge\\u2019g%e\\'nft\\ufb01\\u2018g.w\\u2019 ~\\xa7 .ar\\n\"0. #6,? H\\n\\n\"n.nn-*\\n\\n\\u201d1/779\\u201d\\n\\nRegistegl/Professtoncl Engineer\\ncnd/or and Surveyor\\n\\n \\n\\n \\n\\n    \\n    \\n\\n \\n\\n \\n \\n\\nDate Surveyed\\n\\n    \\n  \\n\\n  \\n  \\n  \\n \\n\\n \\n\\n \\n\\n\\'emncm\\'e No.\\n\\n \\n\\n \\n \\n\\n \\n\\nt\\n\\nF-w\\n\\n\\u2018980 2310\\n\\n#7\\n\\nFT\\n\\n2640\\n\\n\\'90 I320 l650'"
      ]
     },
     "execution_count": 259,
     "metadata": {},
     "output_type": "execute_result"
    }
   ],
   "source": [
    "documents[1]"
   ]
  },
  {
   "cell_type": "code",
   "execution_count": null,
   "metadata": {
    "collapsed": true
   },
   "outputs": [],
   "source": []
  }
 ],
 "metadata": {
  "anaconda-cloud": {},
  "kernelspec": {
   "display_name": "Python [conda root]",
   "language": "python",
   "name": "conda-root-py"
  },
  "language_info": {
   "codemirror_mode": {
    "name": "ipython",
    "version": 2
   },
   "file_extension": ".py",
   "mimetype": "text/x-python",
   "name": "python",
   "nbconvert_exporter": "python",
   "pygments_lexer": "ipython2",
   "version": "2.7.12"
  }
 },
 "nbformat": 4,
 "nbformat_minor": 2
}
